{
 "cells": [
  {
   "cell_type": "markdown",
   "id": "8eb606e4",
   "metadata": {},
   "source": [
    "<div align=\"center\"><h1> Binary Classification w/ Logistic Regression from Scratch </h1></div>\n",
    "<div align=\"right\">\n",
    "<h5>Submitted by:</h5>\n",
    "<div align=\"\"><b>Mancy Saxena </b>\n",
    "    50477980 </div>\n",
    "</div>"
   ]
  },
  {
   "cell_type": "code",
   "execution_count": 246,
   "id": "d56a3dd1",
   "metadata": {},
   "outputs": [],
   "source": [
    "## Import relevant libraries\n",
    "##Import required libraries \n",
    "##(not allowed: scikit-learn or any other libraries with inbuilt functions that help to implement ML methods).\n",
    "\n",
    "import pandas as pdaz3w\n",
    "import csv\n",
    "import numpy as np\n",
    "import matplotlib.pyplot as plt\n",
    "import math\n",
    "import pickle\n",
    "import random\n"
   ]
  },
  {
   "cell_type": "code",
   "execution_count": 301,
   "id": "4aef9911",
   "metadata": {},
   "outputs": [
    {
     "name": "stdout",
     "output_type": "stream",
     "text": [
      "Initial number of nulls in the dataset : 19\n",
      "New number of nulls in the dataset: 0 \n",
      "\n",
      "The stats of the numerical values are as follows:\n"
     ]
    },
    {
     "data": {
      "text/html": [
       "<div>\n",
       "<style scoped>\n",
       "    .dataframe tbody tr th:only-of-type {\n",
       "        vertical-align: middle;\n",
       "    }\n",
       "\n",
       "    .dataframe tbody tr th {\n",
       "        vertical-align: top;\n",
       "    }\n",
       "\n",
       "    .dataframe thead th {\n",
       "        text-align: right;\n",
       "    }\n",
       "</style>\n",
       "<table border=\"1\" class=\"dataframe\">\n",
       "  <thead>\n",
       "    <tr style=\"text-align: right;\">\n",
       "      <th></th>\n",
       "      <th>bill_length_mm</th>\n",
       "      <th>bill_depth_mm</th>\n",
       "      <th>flipper_length_mm</th>\n",
       "      <th>body_mass_g</th>\n",
       "      <th>year</th>\n",
       "    </tr>\n",
       "  </thead>\n",
       "  <tbody>\n",
       "    <tr>\n",
       "      <th>count</th>\n",
       "      <td>333.000000</td>\n",
       "      <td>333.000000</td>\n",
       "      <td>333.000000</td>\n",
       "      <td>333.000000</td>\n",
       "      <td>333.000000</td>\n",
       "    </tr>\n",
       "    <tr>\n",
       "      <th>mean</th>\n",
       "      <td>43.992793</td>\n",
       "      <td>17.164865</td>\n",
       "      <td>200.966967</td>\n",
       "      <td>4207.057057</td>\n",
       "      <td>2008.042042</td>\n",
       "    </tr>\n",
       "    <tr>\n",
       "      <th>std</th>\n",
       "      <td>5.468668</td>\n",
       "      <td>1.969235</td>\n",
       "      <td>14.015765</td>\n",
       "      <td>805.215802</td>\n",
       "      <td>0.812944</td>\n",
       "    </tr>\n",
       "    <tr>\n",
       "      <th>min</th>\n",
       "      <td>32.100000</td>\n",
       "      <td>13.100000</td>\n",
       "      <td>172.000000</td>\n",
       "      <td>2700.000000</td>\n",
       "      <td>2007.000000</td>\n",
       "    </tr>\n",
       "    <tr>\n",
       "      <th>25%</th>\n",
       "      <td>39.500000</td>\n",
       "      <td>15.600000</td>\n",
       "      <td>190.000000</td>\n",
       "      <td>3550.000000</td>\n",
       "      <td>2007.000000</td>\n",
       "    </tr>\n",
       "    <tr>\n",
       "      <th>50%</th>\n",
       "      <td>44.500000</td>\n",
       "      <td>17.300000</td>\n",
       "      <td>197.000000</td>\n",
       "      <td>4050.000000</td>\n",
       "      <td>2008.000000</td>\n",
       "    </tr>\n",
       "    <tr>\n",
       "      <th>75%</th>\n",
       "      <td>48.600000</td>\n",
       "      <td>18.700000</td>\n",
       "      <td>213.000000</td>\n",
       "      <td>4775.000000</td>\n",
       "      <td>2009.000000</td>\n",
       "    </tr>\n",
       "    <tr>\n",
       "      <th>max</th>\n",
       "      <td>59.600000</td>\n",
       "      <td>21.500000</td>\n",
       "      <td>231.000000</td>\n",
       "      <td>6300.000000</td>\n",
       "      <td>2009.000000</td>\n",
       "    </tr>\n",
       "  </tbody>\n",
       "</table>\n",
       "</div>"
      ],
      "text/plain": [
       "       bill_length_mm  bill_depth_mm  flipper_length_mm  body_mass_g  \\\n",
       "count      333.000000     333.000000         333.000000   333.000000   \n",
       "mean        43.992793      17.164865         200.966967  4207.057057   \n",
       "std          5.468668       1.969235          14.015765   805.215802   \n",
       "min         32.100000      13.100000         172.000000  2700.000000   \n",
       "25%         39.500000      15.600000         190.000000  3550.000000   \n",
       "50%         44.500000      17.300000         197.000000  4050.000000   \n",
       "75%         48.600000      18.700000         213.000000  4775.000000   \n",
       "max         59.600000      21.500000         231.000000  6300.000000   \n",
       "\n",
       "              year  \n",
       "count   333.000000  \n",
       "mean   2008.042042  \n",
       "std       0.812944  \n",
       "min    2007.000000  \n",
       "25%    2007.000000  \n",
       "50%    2008.000000  \n",
       "75%    2009.000000  \n",
       "max    2009.000000  "
      ]
     },
     "execution_count": 301,
     "metadata": {},
     "output_type": "execute_result"
    }
   ],
   "source": [
    "#Read, preprocess, and print the main statistics about the dataset (you can reuse\n",
    "##the code from Assignment 0 with a proper citation)\n",
    "\n",
    "\n",
    "## Reading the data \n",
    "penguin_df = pd.read_csv(\"penguins.csv\")\n",
    "\n",
    "\n",
    "## preprocess\n",
    "\n",
    "## 1. Removing null values\n",
    "\n",
    "print(f'Initial number of nulls in the dataset : {penguin_df.isnull().values.sum()}')\n",
    "penguin_df.dropna(axis=0, inplace=True)\n",
    "print(f'New number of nulls in the dataset: {penguin_df.isnull().values.sum()} \\n')\n",
    "\n",
    "\n",
    "print(\"The stats of the numerical values are as follows:\")\n",
    "\n",
    "\n",
    "(penguin_df.describe())\n",
    "\n"
   ]
  },
  {
   "cell_type": "code",
   "execution_count": 248,
   "id": "36b9abb3",
   "metadata": {},
   "outputs": [
    {
     "name": "stdout",
     "output_type": "stream",
     "text": [
      "Year ideally should not be a numerical value, will be pre process this\n",
      "Index(['species', 'island', 'bill_length_mm', 'bill_depth_mm',\n",
      "       'flipper_length_mm', 'body_mass_g', 'sex', 'year'],\n",
      "      dtype='object')\n"
     ]
    }
   ],
   "source": [
    "## Changing String valued columns to categorical values\n",
    "print(\"Year ideally should not be a numerical value, will be pre process this\")\n",
    "print(penguin_df.columns)\n",
    "\n",
    "\n",
    "penguin_df.dtypes\n",
    "\n",
    "\n",
    "penguin_df['species'] = penguin_df.species.astype('category')\n",
    "penguin_df['island'] = penguin_df.island.astype('category')\n",
    "penguin_df['year'] = penguin_df.year.astype('category')\n",
    "penguin_df['sex'] = penguin_df.sex.astype('category')\n",
    "                    "
   ]
  },
  {
   "cell_type": "markdown",
   "id": "01223326",
   "metadata": {},
   "source": [
    "<h2> Normalizing the data </h2>"
   ]
  },
  {
   "cell_type": "code",
   "execution_count": 249,
   "id": "35e5b07d",
   "metadata": {},
   "outputs": [
    {
     "data": {
      "text/plain": [
       "species              category\n",
       "island               category\n",
       "bill_length_mm        float64\n",
       "bill_depth_mm         float64\n",
       "flipper_length_mm     float64\n",
       "body_mass_g           float64\n",
       "sex                  category\n",
       "year                 category\n",
       "dtype: object"
      ]
     },
     "execution_count": 249,
     "metadata": {},
     "output_type": "execute_result"
    }
   ],
   "source": [
    "penguin_df.dtypes"
   ]
  },
  {
   "cell_type": "markdown",
   "id": "588d4c25",
   "metadata": {},
   "source": []
  },
  {
   "cell_type": "code",
   "execution_count": 302,
   "id": "fb69a448",
   "metadata": {},
   "outputs": [
    {
     "name": "stdout",
     "output_type": "stream",
     "text": [
      "['Adelie' 'Gentoo' 'Chinstrap']\n",
      "['Torgersen' 'Biscoe' 'Dream']\n",
      "['male' 'female']\n",
      "[2007 2008 2009]\n"
     ]
    }
   ],
   "source": [
    "print(penguin_df.species.unique())\n",
    "print(penguin_df.island.unique())\n",
    "print(penguin_df.sex.unique())\n",
    "print(penguin_df.year.unique())"
   ]
  },
  {
   "cell_type": "code",
   "execution_count": 251,
   "id": "b2d64c49",
   "metadata": {},
   "outputs": [],
   "source": [
    "penguin_normalized = penguin_df[[\"bill_length_mm\", \"bill_depth_mm\", \"flipper_length_mm\", \"body_mass_g\"]].copy()"
   ]
  },
  {
   "cell_type": "code",
   "execution_count": 252,
   "id": "988e1316",
   "metadata": {},
   "outputs": [],
   "source": [
    "##performing normalization in float / non categorical values values\n",
    "\n",
    "for column in penguin_normalized.columns:\n",
    "    penguin_normalized[column] = (penguin_normalized[column] - penguin_normalized[column].min()) / (penguin_normalized[column].max() - penguin_normalized[column].min())    \n"
   ]
  },
  {
   "cell_type": "code",
   "execution_count": 253,
   "id": "65ed09e5",
   "metadata": {},
   "outputs": [
    {
     "data": {
      "text/plain": [
       "Index(['bill_length_mm', 'bill_depth_mm', 'flipper_length_mm', 'body_mass_g'], dtype='object')"
      ]
     },
     "execution_count": 253,
     "metadata": {},
     "output_type": "execute_result"
    }
   ],
   "source": [
    "penguin_normalized.columns"
   ]
  },
  {
   "cell_type": "code",
   "execution_count": 254,
   "id": "a84ce469",
   "metadata": {},
   "outputs": [],
   "source": [
    "penguin_df.drop([\"bill_length_mm\", \"bill_depth_mm\", \"flipper_length_mm\", \"body_mass_g\"], axis=1,inplace=True)"
   ]
  },
  {
   "cell_type": "code",
   "execution_count": 255,
   "id": "abe569f6",
   "metadata": {},
   "outputs": [],
   "source": [
    "species_map = {'Adelie':1,'Gentoo':2,\n",
    "            'Chinstrap':3}\n",
    "\n",
    "island_map = {\"Torgersen\":1, \"Biscoe\":2, \"Dream\":3}\n",
    "sex_map = {\"male\":0, \"female\":1}\n",
    "year_map = {2007:1, 2008:2, 2009:3}\n",
    "\n",
    "penguin_df['species'] = penguin_df['species'].map(species_map)\n",
    "penguin_df['island'] = penguin_df['island'].map(island_map)\n",
    "penguin_df['sex'] = penguin_df['sex'].map(sex_map)\n",
    "penguin_df['year'] = penguin_df['year'].map(year_map)"
   ]
  },
  {
   "cell_type": "code",
   "execution_count": 256,
   "id": "657b08af",
   "metadata": {},
   "outputs": [
    {
     "data": {
      "text/html": [
       "<div>\n",
       "<style scoped>\n",
       "    .dataframe tbody tr th:only-of-type {\n",
       "        vertical-align: middle;\n",
       "    }\n",
       "\n",
       "    .dataframe tbody tr th {\n",
       "        vertical-align: top;\n",
       "    }\n",
       "\n",
       "    .dataframe thead th {\n",
       "        text-align: right;\n",
       "    }\n",
       "</style>\n",
       "<table border=\"1\" class=\"dataframe\">\n",
       "  <thead>\n",
       "    <tr style=\"text-align: right;\">\n",
       "      <th></th>\n",
       "      <th>species</th>\n",
       "      <th>island</th>\n",
       "      <th>sex</th>\n",
       "      <th>year</th>\n",
       "    </tr>\n",
       "  </thead>\n",
       "  <tbody>\n",
       "    <tr>\n",
       "      <th>0</th>\n",
       "      <td>1</td>\n",
       "      <td>1</td>\n",
       "      <td>0</td>\n",
       "      <td>1</td>\n",
       "    </tr>\n",
       "    <tr>\n",
       "      <th>1</th>\n",
       "      <td>1</td>\n",
       "      <td>1</td>\n",
       "      <td>1</td>\n",
       "      <td>1</td>\n",
       "    </tr>\n",
       "    <tr>\n",
       "      <th>2</th>\n",
       "      <td>1</td>\n",
       "      <td>1</td>\n",
       "      <td>1</td>\n",
       "      <td>1</td>\n",
       "    </tr>\n",
       "    <tr>\n",
       "      <th>4</th>\n",
       "      <td>1</td>\n",
       "      <td>1</td>\n",
       "      <td>1</td>\n",
       "      <td>1</td>\n",
       "    </tr>\n",
       "    <tr>\n",
       "      <th>5</th>\n",
       "      <td>1</td>\n",
       "      <td>1</td>\n",
       "      <td>0</td>\n",
       "      <td>1</td>\n",
       "    </tr>\n",
       "    <tr>\n",
       "      <th>...</th>\n",
       "      <td>...</td>\n",
       "      <td>...</td>\n",
       "      <td>...</td>\n",
       "      <td>...</td>\n",
       "    </tr>\n",
       "    <tr>\n",
       "      <th>339</th>\n",
       "      <td>3</td>\n",
       "      <td>3</td>\n",
       "      <td>0</td>\n",
       "      <td>3</td>\n",
       "    </tr>\n",
       "    <tr>\n",
       "      <th>340</th>\n",
       "      <td>3</td>\n",
       "      <td>3</td>\n",
       "      <td>1</td>\n",
       "      <td>3</td>\n",
       "    </tr>\n",
       "    <tr>\n",
       "      <th>341</th>\n",
       "      <td>3</td>\n",
       "      <td>3</td>\n",
       "      <td>0</td>\n",
       "      <td>3</td>\n",
       "    </tr>\n",
       "    <tr>\n",
       "      <th>342</th>\n",
       "      <td>3</td>\n",
       "      <td>3</td>\n",
       "      <td>0</td>\n",
       "      <td>3</td>\n",
       "    </tr>\n",
       "    <tr>\n",
       "      <th>343</th>\n",
       "      <td>3</td>\n",
       "      <td>3</td>\n",
       "      <td>1</td>\n",
       "      <td>3</td>\n",
       "    </tr>\n",
       "  </tbody>\n",
       "</table>\n",
       "<p>333 rows × 4 columns</p>\n",
       "</div>"
      ],
      "text/plain": [
       "    species island sex year\n",
       "0         1      1   0    1\n",
       "1         1      1   1    1\n",
       "2         1      1   1    1\n",
       "4         1      1   1    1\n",
       "5         1      1   0    1\n",
       "..      ...    ...  ..  ...\n",
       "339       3      3   0    3\n",
       "340       3      3   1    3\n",
       "341       3      3   0    3\n",
       "342       3      3   0    3\n",
       "343       3      3   1    3\n",
       "\n",
       "[333 rows x 4 columns]"
      ]
     },
     "execution_count": 256,
     "metadata": {},
     "output_type": "execute_result"
    }
   ],
   "source": [
    "penguin_df"
   ]
  },
  {
   "cell_type": "code",
   "execution_count": 257,
   "id": "29da59fc",
   "metadata": {},
   "outputs": [],
   "source": [
    "for cols in penguin_normalized.columns:\n",
    "    penguin_df = penguin_df.join(penguin_normalized[cols])"
   ]
  },
  {
   "cell_type": "code",
   "execution_count": 258,
   "id": "3bb5c717",
   "metadata": {},
   "outputs": [
    {
     "data": {
      "text/html": [
       "<div>\n",
       "<style scoped>\n",
       "    .dataframe tbody tr th:only-of-type {\n",
       "        vertical-align: middle;\n",
       "    }\n",
       "\n",
       "    .dataframe tbody tr th {\n",
       "        vertical-align: top;\n",
       "    }\n",
       "\n",
       "    .dataframe thead th {\n",
       "        text-align: right;\n",
       "    }\n",
       "</style>\n",
       "<table border=\"1\" class=\"dataframe\">\n",
       "  <thead>\n",
       "    <tr style=\"text-align: right;\">\n",
       "      <th></th>\n",
       "      <th>species</th>\n",
       "      <th>island</th>\n",
       "      <th>sex</th>\n",
       "      <th>year</th>\n",
       "      <th>bill_length_mm</th>\n",
       "      <th>bill_depth_mm</th>\n",
       "      <th>flipper_length_mm</th>\n",
       "      <th>body_mass_g</th>\n",
       "    </tr>\n",
       "  </thead>\n",
       "  <tbody>\n",
       "    <tr>\n",
       "      <th>0</th>\n",
       "      <td>1</td>\n",
       "      <td>1</td>\n",
       "      <td>0</td>\n",
       "      <td>1</td>\n",
       "      <td>0.254545</td>\n",
       "      <td>0.666667</td>\n",
       "      <td>0.152542</td>\n",
       "      <td>0.291667</td>\n",
       "    </tr>\n",
       "    <tr>\n",
       "      <th>1</th>\n",
       "      <td>1</td>\n",
       "      <td>1</td>\n",
       "      <td>1</td>\n",
       "      <td>1</td>\n",
       "      <td>0.269091</td>\n",
       "      <td>0.511905</td>\n",
       "      <td>0.237288</td>\n",
       "      <td>0.305556</td>\n",
       "    </tr>\n",
       "    <tr>\n",
       "      <th>2</th>\n",
       "      <td>1</td>\n",
       "      <td>1</td>\n",
       "      <td>1</td>\n",
       "      <td>1</td>\n",
       "      <td>0.298182</td>\n",
       "      <td>0.583333</td>\n",
       "      <td>0.389831</td>\n",
       "      <td>0.152778</td>\n",
       "    </tr>\n",
       "    <tr>\n",
       "      <th>3</th>\n",
       "      <td>1</td>\n",
       "      <td>1</td>\n",
       "      <td>1</td>\n",
       "      <td>1</td>\n",
       "      <td>0.167273</td>\n",
       "      <td>0.738095</td>\n",
       "      <td>0.355932</td>\n",
       "      <td>0.208333</td>\n",
       "    </tr>\n",
       "    <tr>\n",
       "      <th>4</th>\n",
       "      <td>1</td>\n",
       "      <td>1</td>\n",
       "      <td>0</td>\n",
       "      <td>1</td>\n",
       "      <td>0.261818</td>\n",
       "      <td>0.892857</td>\n",
       "      <td>0.305085</td>\n",
       "      <td>0.263889</td>\n",
       "    </tr>\n",
       "    <tr>\n",
       "      <th>...</th>\n",
       "      <td>...</td>\n",
       "      <td>...</td>\n",
       "      <td>...</td>\n",
       "      <td>...</td>\n",
       "      <td>...</td>\n",
       "      <td>...</td>\n",
       "      <td>...</td>\n",
       "      <td>...</td>\n",
       "    </tr>\n",
       "    <tr>\n",
       "      <th>328</th>\n",
       "      <td>3</td>\n",
       "      <td>3</td>\n",
       "      <td>0</td>\n",
       "      <td>3</td>\n",
       "      <td>0.861818</td>\n",
       "      <td>0.797619</td>\n",
       "      <td>0.593220</td>\n",
       "      <td>0.361111</td>\n",
       "    </tr>\n",
       "    <tr>\n",
       "      <th>329</th>\n",
       "      <td>3</td>\n",
       "      <td>3</td>\n",
       "      <td>1</td>\n",
       "      <td>3</td>\n",
       "      <td>0.414545</td>\n",
       "      <td>0.595238</td>\n",
       "      <td>0.508475</td>\n",
       "      <td>0.194444</td>\n",
       "    </tr>\n",
       "    <tr>\n",
       "      <th>330</th>\n",
       "      <td>3</td>\n",
       "      <td>3</td>\n",
       "      <td>0</td>\n",
       "      <td>3</td>\n",
       "      <td>0.636364</td>\n",
       "      <td>0.607143</td>\n",
       "      <td>0.355932</td>\n",
       "      <td>0.298611</td>\n",
       "    </tr>\n",
       "    <tr>\n",
       "      <th>331</th>\n",
       "      <td>3</td>\n",
       "      <td>3</td>\n",
       "      <td>0</td>\n",
       "      <td>3</td>\n",
       "      <td>0.680000</td>\n",
       "      <td>0.702381</td>\n",
       "      <td>0.644068</td>\n",
       "      <td>0.388889</td>\n",
       "    </tr>\n",
       "    <tr>\n",
       "      <th>332</th>\n",
       "      <td>3</td>\n",
       "      <td>3</td>\n",
       "      <td>1</td>\n",
       "      <td>3</td>\n",
       "      <td>0.658182</td>\n",
       "      <td>0.666667</td>\n",
       "      <td>0.440678</td>\n",
       "      <td>0.298611</td>\n",
       "    </tr>\n",
       "  </tbody>\n",
       "</table>\n",
       "<p>333 rows × 8 columns</p>\n",
       "</div>"
      ],
      "text/plain": [
       "    species island sex year  bill_length_mm  bill_depth_mm  flipper_length_mm  \\\n",
       "0         1      1   0    1        0.254545       0.666667           0.152542   \n",
       "1         1      1   1    1        0.269091       0.511905           0.237288   \n",
       "2         1      1   1    1        0.298182       0.583333           0.389831   \n",
       "3         1      1   1    1        0.167273       0.738095           0.355932   \n",
       "4         1      1   0    1        0.261818       0.892857           0.305085   \n",
       "..      ...    ...  ..  ...             ...            ...                ...   \n",
       "328       3      3   0    3        0.861818       0.797619           0.593220   \n",
       "329       3      3   1    3        0.414545       0.595238           0.508475   \n",
       "330       3      3   0    3        0.636364       0.607143           0.355932   \n",
       "331       3      3   0    3        0.680000       0.702381           0.644068   \n",
       "332       3      3   1    3        0.658182       0.666667           0.440678   \n",
       "\n",
       "     body_mass_g  \n",
       "0       0.291667  \n",
       "1       0.305556  \n",
       "2       0.152778  \n",
       "3       0.208333  \n",
       "4       0.263889  \n",
       "..           ...  \n",
       "328     0.361111  \n",
       "329     0.194444  \n",
       "330     0.298611  \n",
       "331     0.388889  \n",
       "332     0.298611  \n",
       "\n",
       "[333 rows x 8 columns]"
      ]
     },
     "execution_count": 258,
     "metadata": {},
     "output_type": "execute_result"
    }
   ],
   "source": [
    "penguin_df.reset_index(drop=True)\n"
   ]
  },
  {
   "cell_type": "markdown",
   "id": "be708800",
   "metadata": {},
   "source": [
    "<h2> Choosing the target Variable </h2>\n",
    "Here I am choosing Target variable as \"Sex\" --> Male / Female making this a binary classification problem"
   ]
  },
  {
   "cell_type": "code",
   "execution_count": 259,
   "id": "daa09084",
   "metadata": {},
   "outputs": [],
   "source": [
    "def train_test_split(df, random_state=42):\n",
    "    split_percent = 0.8\n",
    "    random.seed(random_state)\n",
    "    \n",
    "    train=df.sample(frac=split_percent,random_state=random_state).copy()\n",
    "    test=df.drop(train.index).copy()\n",
    "    \n",
    "    train_x  = train.loc[:, train.columns != \"sex\"]\n",
    "    train_y = train.loc[:, train.columns == \"sex\"]\n",
    "    \n",
    "    \n",
    "    test_x  = test.loc[:, test.columns != \"sex\"]\n",
    "    test_y = test.loc[:, test.columns == \"sex\"]\n",
    "    \n",
    "    train_x= train_x.reset_index(drop=True)\n",
    "    train_y = train_y.reset_index(drop=True)\n",
    "    test_x = test_x.reset_index(drop=True)\n",
    "    test_y = test_y.reset_index(drop=True)    \n",
    "\n",
    "    return train_x.iloc[0:].values, train_y[[\"sex\"]].iloc[0:].values, test_x.iloc[0:].values, test_y[[\"sex\"]].iloc[0:].values\n",
    "    \n",
    "train_X, train_y, test_X, test_y = train_test_split(penguin_df)"
   ]
  },
  {
   "cell_type": "code",
   "execution_count": 383,
   "id": "9ce9a124",
   "metadata": {},
   "outputs": [],
   "source": [
    "class LogitRegression:\n",
    "    \n",
    "    def __init__(self, rate=0.001, iter_num=100000):\n",
    "        ## default number of iterations is 10000 and the learning rate is 0.05\n",
    "        self.rate = rate\n",
    "        self.iter_num = iter_num\n",
    "        self.wt, self.bias, self.cost_list= None, None,None\n",
    "        \n",
    "        \n",
    "        \n",
    "    def sigmoid(self,z):\n",
    "        return 1/(1+math.e**(-z))\n",
    "    \n",
    "    def cost(self, X, y, sigmoid_score):\n",
    "        N,d = X.shape\n",
    "        \n",
    "        cost_val =(1/N)*((-1*y*np.log(sigmoid_score)) - ((1-y)*np.log(1-sigmoid_score)))\n",
    " \n",
    "        return cost_val\n",
    "    \n",
    "    def gradient_descent(self,X,y, sigmoid_score):\n",
    "        N,d = X.shape\n",
    "        \n",
    "        XT = np.transpose(X)   ## dXN\n",
    "        y_score = sigmoid_score - y\n",
    "        delta_w = (1/N) * np.dot(XT, (y_score))\n",
    "        delta_b = (1/N) * np.sum(y_score)  ##XT ==> dXN dimensions and NX1  ==>dX1\n",
    "        \n",
    "        return delta_w, delta_b\n",
    "    \n",
    "    def fit(self,X,y):\n",
    "        random.seed(0)\n",
    "    # This method performs the training.\n",
    "        N,d = X.shape\n",
    "        # Initialize weights\n",
    "        ##W=np.zeros((1,d))  ##matrix of 1Xd\n",
    "        W=np.random.uniform(0, 1, size=(1,d))\n",
    "        WT = np.transpose(W)  ## dX1\n",
    "        B=0.5  ##Initializing bias as 0.5 \n",
    "        self.cost_list = []\n",
    "        for i in range(self.iter_num): \n",
    "            Wt_X = np.dot(X,WT)  \n",
    "            score = Wt_X + B   ## Nxd and dx1  \n",
    "            sigmoid_score = self.sigmoid(score) ## y predicted at given cost and \n",
    "            updated_dw, updated_db = self.gradient_descent(X,y,sigmoid_score)  ##dXN of X and 1XN\n",
    "            \n",
    "            B=B-self.rate*updated_db\n",
    "            WT=WT-self.rate*updated_dw\n",
    "            \n",
    "            if (i/10000).is_integer():\n",
    "               \n",
    "                cost_to_Add = self.cost(X, y, sigmoid_score)\n",
    "                self.cost_list.append(np.sum(cost_to_Add))            \n",
    "            \n",
    "        \n",
    "        self.wt = WT\n",
    "        self.bias =B\n",
    "            \n",
    "        return self.wt, self.bias, self.cost_list\n",
    "    def predict(self,X):\n",
    "        N,d= X.shape\n",
    "        y_hat = np.zeros((N,1))\n",
    "        final_score = np.dot(X,self.wt)+self.bias  ##1Xd\n",
    "        final_score_y = self.sigmoid(final_score)\n",
    "        for idx,pred_vals in enumerate(final_score_y):\n",
    "            if pred_vals[0] >= 0.5:\n",
    "                y_hat[idx] = 1\n",
    "            else:\n",
    "                y_hat[idx] = 0 \n",
    "        \n",
    "        return y_hat\n",
    "    \n",
    "    def accuracy(self,Y_cal,Y_actual ):\n",
    "        total_sample = Y_cal.shape[0]\n",
    "        count=0\n",
    "        for val1, val2 in zip(Y_cal, Y_actual):\n",
    "            if val1[0] == val2[0]:\n",
    "                count+=1\n",
    "        return count/total_sample\n",
    "                \n",
    "        \n",
    "    "
   ]
  },
  {
   "cell_type": "code",
   "execution_count": 384,
   "id": "be77bac2",
   "metadata": {},
   "outputs": [
    {
     "name": "stdout",
     "output_type": "stream",
     "text": [
      "The accuracy is 89.55%\n"
     ]
    }
   ],
   "source": [
    "##Make the LogitRegression model object\n",
    "\n",
    "\n",
    "##This is default learning rate and iteration\n",
    "\n",
    "\n",
    "model = LogitRegression()\n",
    "wt,bi, loss_vals = model.fit(train_X, train_y)\n",
    "#train_X, train_y, test_X, test_y \n",
    "y_pred = model.predict(test_X)\n",
    "accuracy = model.accuracy(y_pred, test_y)\n",
    "print(f\"The accuracy is {accuracy*100:.2f}%\")"
   ]
  },
  {
   "cell_type": "code",
   "execution_count": 385,
   "id": "30624112",
   "metadata": {
    "scrolled": false
   },
   "outputs": [
    {
     "name": "stdout",
     "output_type": "stream",
     "text": [
      "The accuracy is 95.52%\n"
     ]
    }
   ],
   "source": [
    "model1 = LogitRegression(0.05,100000)\n",
    "wt1,bi1, loss_vals1 = model1.fit(train_X, train_y)\n",
    "#train_X, train_y, test_X, test_y \n",
    "y_pred1 = model1.predict(test_X)\n",
    "accuracy1= model1.accuracy(y_pred1, test_y)\n",
    "print(f\"The accuracy is {accuracy1*100:.2f}%\")"
   ]
  },
  {
   "cell_type": "code",
   "execution_count": 386,
   "id": "c8025c89",
   "metadata": {},
   "outputs": [
    {
     "name": "stdout",
     "output_type": "stream",
     "text": [
      "The accuracy is 94.03%\n"
     ]
    }
   ],
   "source": [
    "model2 = LogitRegression(0.005,100000)\n",
    "wt2,bi2, loss_vals2 = model2.fit(train_X, train_y)\n",
    "#train_X, train_y, test_X, test_y \n",
    "y_pred2 = model2.predict(test_X)\n",
    "accuracy2=model2.accuracy(y_pred2, test_y)\n",
    "print(f\"The accuracy is {accuracy2*100:.2f}%\")"
   ]
  },
  {
   "cell_type": "code",
   "execution_count": 387,
   "id": "d6e965c4",
   "metadata": {},
   "outputs": [
    {
     "name": "stdout",
     "output_type": "stream",
     "text": [
      "Weights with default lr and iterations \n",
      " [[ 0.56877093]\n",
      " [ 0.17168419]\n",
      " [ 0.26811323]\n",
      " [-1.73520599]\n",
      " [-2.77976051]\n",
      " [-1.40221791]\n",
      " [-1.92866969]] and\n",
      " bias is 1.51883\n",
      "\n",
      "\n",
      "Weights with lr =0.05 and iterations = 10000 \n",
      "[[  2.29062283]\n",
      " [ -0.44625142]\n",
      " [  0.07592737]\n",
      " [-10.94843022]\n",
      " [-15.03741183]\n",
      " [ -0.27251077]\n",
      " [-13.98303041]] and\n",
      " bias is 14.55981\n",
      "\n",
      "\n",
      "Weights with lr = 0.005 and iterations =10000 \n",
      " [[ 1.25581639]\n",
      " [-0.07383143]\n",
      " [ 0.21697906]\n",
      " [-5.3365302 ]\n",
      " [-7.12901395]\n",
      " [-1.56023444]\n",
      " [-5.35263268]] and\n",
      " bias is 6.12287\n"
     ]
    }
   ],
   "source": [
    "##Final Weights for each model :\n",
    "print(f\"Weights with default lr and iterations \\n {wt} and\\n bias is {bi:.5f}\")\n",
    "print(\"\\n\")\n",
    "print(f\"Weights with lr =0.05 and iterations = 10000 \\n{wt1} and\\n bias is {bi1:.5f}\")\n",
    "print(\"\\n\")\n",
    "print(f\"Weights with lr = 0.005 and iterations =10000 \\n {wt2} and\\n bias is {bi2:.5f}\")"
   ]
  },
  {
   "cell_type": "code",
   "execution_count": 390,
   "id": "5486ab2e",
   "metadata": {},
   "outputs": [
    {
     "data": {
      "text/plain": [
       "10"
      ]
     },
     "execution_count": 390,
     "metadata": {},
     "output_type": "execute_result"
    }
   ],
   "source": [
    "every_10000th_iteration = [i for i in range(1,len(loss_vals2)+1)]\n",
    "len(every_10000th_iteration)"
   ]
  },
  {
   "cell_type": "code",
   "execution_count": 392,
   "id": "61aa2871",
   "metadata": {},
   "outputs": [
    {
     "data": {
      "text/plain": [
       "Text(0, 0.5, 'Cost Value')"
      ]
     },
     "execution_count": 392,
     "metadata": {},
     "output_type": "execute_result"
    },
    {
     "data": {
      "image/png": "[encoded data removed]",
      "text/plain": [
       "<Figure size 640x480 with 1 Axes>"
      ]
     },
     "metadata": {},
     "output_type": "display_data"
    }
   ],
   "source": [
    "plt.plot(every_10000th_iteration, loss_vals1, color='r', label='lr=0.05,iterations = 100000')\n",
    "plt.plot(every_10000th_iteration, loss_vals, color='b', label='lr=0.001, iterations=100000')\n",
    "plt.plot(every_10000th_iteration, loss_vals2, color='g', label='lr=0.005, iterations=100000')\n",
    "\n",
    "plt.legend([\"lr=0.05,iterations = 100000\", \"lr=0.001, iterations=100000\", \"lr=0.005, iterations=100000\"], loc =\"upper right\")\n",
    "\n",
    "plt.xlabel(\"No. of iterations * 10000\") \n",
    "plt.ylabel(\"Cost Value\") "
   ]
  },
  {
   "cell_type": "code",
   "execution_count": 405,
   "id": "654a7a17",
   "metadata": {},
   "outputs": [
    {
     "name": "stdout",
     "output_type": "stream",
     "text": [
      "The accuracy with 10000 iterations is  94.03%\n",
      "The accuracy is 20000 iterations is 92.54%\n"
     ]
    }
   ],
   "source": [
    "model4 = LogitRegression(0.9,10000)\n",
    "wt4,bi4, loss_vals4 = model4.fit(train_X, train_y)\n",
    "#train_X, train_y, test_X, test_y \n",
    "y_pred4 = model4.predict(test_X)\n",
    "accuracy4 = model4.accuracy(y_pred4, test_y)\n",
    "print(f\"The accuracy with 10000 iterations is  {accuracy4*100:.2f}%\")\n",
    "\n",
    "\n",
    "model5 = LogitRegression(0.9,20000)\n",
    "wt5,bi5, loss_vals5 = model5.fit(train_X, train_y)\n",
    "#train_X, train_y, test_X, test_y \n",
    "y_pred5 = model5.predict(test_X)\n",
    "accuracy5 = model5.accuracy(y_pred5, test_y)\n",
    "print(f\"The accuracy is 20000 iterations is {accuracy5*100:.2f}%\")\n"
   ]
  },
  {
   "cell_type": "code",
   "execution_count": 398,
   "id": "369582b4",
   "metadata": {},
   "outputs": [
    {
     "data": {
      "text/plain": [
       "2"
      ]
     },
     "execution_count": 398,
     "metadata": {},
     "output_type": "execute_result"
    }
   ],
   "source": [
    "len(loss_vals5)"
   ]
  },
  {
   "cell_type": "markdown",
   "id": "de6b5ecb",
   "metadata": {},
   "source": [
    "<b>REFERENCES</b>\n",
    "<ol>\n",
    "    \n",
    "    - https://datatofish.com/check-nan-pandas-dataframe/ \n",
    "    - https://www.digitalocean.com/community/tutorials/pandas-dropna-drop-null-na-values-from-dataframe \n",
    "    - https://stackoverflow.com/questions/39092067/pandas-dataframe-convert-column-type-to-string-or-categorical\n",
    "    - https://www.geeksforgeeks.org/normalize-a-column-in-pandas/\n",
    "    - https://www.tutorialspoint.com/how-to-select-all-columns-except-one-in-a-pandas-dataframe\n",
    "    - https://www.w3schools.com/python/ref_math_e.asp\n",
    "    - https://numpy.org/doc/stable/reference/generated/numpy.zeros.html\n",
    "    - https://medium.com/analytics-vidhya/pandas-how-to-change-value-based-on-condition-fc8ee38ba529\n",
    "    - https://sparkbyexamples.com/pandas/pandas-map-function-explained\n",
    "    - https://www.geeksforgeeks.org/matplotlib-pyplot-legend-in-python/\n",
    "    - https://www.kdnuggets.com/2022/07/logistic-regression-work.html\n",
    "    - https://www.datacamp.com/tutorial/understanding-logistic-regression-python\n",
    "  \n",
    "</ol>"
   ]
  },
  {
   "cell_type": "code",
   "execution_count": null,
   "id": "76cb48a8",
   "metadata": {},
   "outputs": [],
   "source": [
    "##getting best accuarcy for learning rate --> 0.0 and number of iterations --> 10000\n",
    "best_wt, best_bias = wt1,bi1\n",
    "best_score = {\n",
    "    \n",
    "    \"weight\":best_wt,\n",
    "    \"bias\" : best_bias,\n",
    "    \"accuracy\": accuracy1,\n",
    "    \"learning_rate\" : 0.05,\n",
    "    \"iterations\":100000\n",
    "}"
   ]
  },
  {
   "cell_type": "code",
   "execution_count": 406,
   "id": "849fc06e",
   "metadata": {},
   "outputs": [
    {
     "data": {
      "text/plain": [
       "{'weight': array([[  2.29122914],\n",
       "        [ -0.445885  ],\n",
       "        [  0.07546481],\n",
       "        [-10.95561228],\n",
       "        [-15.03806034],\n",
       "        [ -0.25830199],\n",
       "        [-13.99686389]]),\n",
       " 'bias': 14.561075166818854,\n",
       " 'accuracy': 0.9552238805970149,\n",
       " 'learning_rate': 0.05,\n",
       " 'iterations': 100000}"
      ]
     },
     "execution_count": 406,
     "metadata": {},
     "output_type": "execute_result"
    }
   ],
   "source": [
    "best_score"
   ]
  },
  {
   "cell_type": "code",
   "execution_count": 407,
   "id": "d6611c40",
   "metadata": {},
   "outputs": [],
   "source": [
    "with open('Mancy_Assignment1__assignment1_part_1.pickle', 'wb') as file:\n",
    "    pickle.dump(best_score, file)"
   ]
  },
  {
   "cell_type": "code",
   "execution_count": 408,
   "id": "44e550f1",
   "metadata": {},
   "outputs": [],
   "source": [
    "with open('Mancy_Assignment1__assignment1_part_1.pickle', 'rb') as handle:\n",
    "    b = pickle.load(handle)"
   ]
  },
  {
   "cell_type": "code",
   "execution_count": 411,
   "id": "bc29c0d2",
   "metadata": {},
   "outputs": [
    {
     "name": "stdout",
     "output_type": "stream",
     "text": [
      "{'weight': array([[  2.29122914],\n",
      "       [ -0.445885  ],\n",
      "       [  0.07546481],\n",
      "       [-10.95561228],\n",
      "       [-15.03806034],\n",
      "       [ -0.25830199],\n",
      "       [-13.99686389]]), 'bias': 14.561075166818854, 'accuracy': 0.9552238805970149, 'learning_rate': 0.05, 'iterations': 100000}\n"
     ]
    }
   ],
   "source": [
    "print(b)"
   ]
  },
  {
   "cell_type": "code",
   "execution_count": null,
   "id": "8cf449a2",
   "metadata": {},
   "outputs": [],
   "source": []
  }
 ],
 "metadata": {
  "kernelspec": {
   "display_name": "Python 3 (ipykernel)",
   "language": "python",
   "name": "python3"
  },
  "language_info": {
   "codemirror_mode": {
    "name": "ipython",
    "version": 3
   },
   "file_extension": ".py",
   "mimetype": "text/x-python",
   "name": "python",
   "nbconvert_exporter": "python",
   "pygments_lexer": "ipython3",
   "version": "3.10.9"
  }
 },
 "nbformat": 4,
 "nbformat_minor": 5
}
